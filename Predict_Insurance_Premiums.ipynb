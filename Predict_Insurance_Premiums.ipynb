{
  "nbformat": 4,
  "nbformat_minor": 0,
  "metadata": {
    "colab": {
      "name": "My_Work_Predicting Insurance Premiums.ipynb",
      "provenance": [],
      "private_outputs": true,
      "collapsed_sections": [],
      "authorship_tag": "ABX9TyPX6p/V+rkVVC08rpyN1duA"
    },
    "kernelspec": {
      "name": "python3",
      "display_name": "Python 3"
    }
  },
  "cells": [
    {
      "cell_type": "markdown",
      "metadata": {
        "id": "NjxhBmX3u6zx",
        "colab_type": "text"
      },
      "source": [
        "About Dataset:\n",
        "\n",
        "The insurance.csv dataset contains 1338 observations (rows) and 7 features (columns). The dataset contains 4 numerical features (age, bmi, children and expenses) and 3 nominal features (sex, smoker and region) that were converted into factors with numerical value desginated for each level.\n",
        "\n",
        "The purposes of this exercise to look into different features to observe their relationship, and plot a multiple linear regression based on several features of individual such as age, physical/family condition and location against their existing medical expense to be used for predicting future medical expenses of individuals that help medical insurance to make decision on charging the premium."
      ]
    },
    {
      "cell_type": "code",
      "metadata": {
        "id": "WVq73k1msT1R",
        "colab_type": "code",
        "colab": {}
      },
      "source": [
        ""
      ],
      "execution_count": null,
      "outputs": []
    },
    {
      "cell_type": "markdown",
      "metadata": {
        "id": "idjdfI2fsHpj",
        "colab_type": "text"
      },
      "source": [
        "Additional Resources for reference:\n",
        "\n",
        "https://www.kaggle.com/kmt112/predicting-insurance-premium-beginner\n",
        "\n",
        "https://www.kaggle.com/venky12347/insurance-premium\n",
        "\n",
        "https://www.kaggle.com/noordeen/insurance-premium-prediction/kernels\n",
        "\n",
        "\n",
        "\n",
        "\n",
        "MORE RESOURCES FOR INSURANCE:\n",
        "https://www.google.com/search?q=insurance+site%3Aarchive.ics.uci.edu%2Fml&sa=Search&cof=AH%3Acenter%3BLH%3A130%3BL%3Ahttp%3A%2F%2Farchive.ics.uci.edu%2Fml%2Fassets%2Flogo.gif%3BLW%3A384%3BAWFID%3A869c0b2eaa8d518e%3B&domains=ics.uci.edu&sitesearch=ics.uci.edu\n",
        "\n",
        "https://rpubs.com/cheverne/linearregressionanalysis_insurance\n",
        "\n",
        "https://www.kaggle.com/nazirk/kernel84a3f83c3c - add the box plot\n",
        "\n",
        "\n"
      ]
    },
    {
      "cell_type": "markdown",
      "metadata": {
        "id": "7KobFdqiFZ4U",
        "colab_type": "text"
      },
      "source": [
        "# Dataset:\n",
        "\n",
        "https://raw.githubusercontent.com/shahkv95/Datasets/master/insurance.csv\n",
        "\n"
      ]
    },
    {
      "cell_type": "markdown",
      "metadata": {
        "id": "QmfWH0CO4Gog",
        "colab_type": "text"
      },
      "source": [
        "# Steps/Questions:\n",
        "\n",
        "1) Importing Dataset\n",
        "\n",
        "2) Understanding data distribution\n",
        "\n",
        "3) Finding correlation matrix - Write a function for the same\n",
        "\n",
        "4) Visualize correlation matrix\n",
        "\n",
        "5) Histogram for age, bmi, children, charges and can use gender for hue\n",
        "\n",
        "6) Bar graph comparison for gender and smoker\n",
        "\n",
        "7) Scatter plot for age vs charges, bmi vs charges, children vs charges\n",
        "\n",
        "8) Use scatterplot of seaborn for bmi vs charges having smokers as hue\n",
        "\n",
        "9) Use violen plot for sex vs charges with hue value as smokers - write the observation\n",
        "\n",
        "10) Create pairplot using seaborn with smokers as hue\n",
        "\n",
        "\n"
      ]
    },
    {
      "cell_type": "markdown",
      "metadata": {
        "id": "pBTo5PkC7A_9",
        "colab_type": "text"
      },
      "source": [
        "==================================================================================================================="
      ]
    },
    {
      "cell_type": "markdown",
      "metadata": {
        "id": "aNjNk9MG7C5N",
        "colab_type": "text"
      },
      "source": [
        "# Preparing data for machine learning algorithm\n",
        "\n",
        "1) Print the head of the dataframe\n",
        "\n",
        "2) Check the values of the unique regions\n",
        "\n",
        "3) Either encode using one-hot encoding or drop the column, if droping the column, don't forget to use inplace\n",
        "\n",
        "4) Changing binary categories of sex and smokers to 1s and 0s using map/lambda function\n",
        "\n",
        "5) Store the target column in y and the rest of the columns in X - hint: can use drop method for X by droping charges column"
      ]
    },
    {
      "cell_type": "markdown",
      "metadata": {
        "id": "sP7IJUMc8S_2",
        "colab_type": "text"
      },
      "source": [
        "==================================================================================================================="
      ]
    },
    {
      "cell_type": "markdown",
      "metadata": {
        "id": "LgiFZfAN8dKV",
        "colab_type": "text"
      },
      "source": [
        "# Modeling the data \n",
        "\n",
        "1) Import requirerd libraries for Linear Regression\n",
        "\n",
        "2) Split the data into training and testing with random state = 0\n",
        "\n",
        "3) Fit the model\n",
        "\n",
        "4) Predict from the trained model using predict method\n",
        "\n",
        "5) Use score method to get the R2 score\n",
        "\n",
        "6) Create a dataframe of y_test and y_test_pred and compare the result by printing the dataframe\n",
        "\n",
        "# ------------ Steps for improvement ----------\n",
        "\n",
        "7) Normalize the data using Standard Scalar object offered by sklearn\n",
        "\n",
        "8) Go to this link for further template : https://colab.research.google.com/drive/1Zs2cnsyXxSD9i6m7gxnZi0GzOmW0WRcQ#scrollTo=PNzu6sCHdGf6\n",
        "\n",
        "9) Import Linear Regression model ---- Create a instance for Linear Regression model ---- Fit data to the model\n",
        "\n",
        "10) Import PolynomialFeatures from sklearn preprocessing --- Create a PolynomialFeatures instance in degree 3 --- Fit and transform the training data to polynomial --- Fit and transform the testing data to polynomial --- Create a instance for Linear Regression model --- Fit data to the model\n",
        "\n",
        "11) Import Decision Tree Regression model --- Create a instance for Decision Tree Regression model --- Fit data to the model\n",
        "\n",
        "12) Import Random Forest Regression model --- Create a instance for Random Forest Regression model --- Fit data to the model\n",
        "\n",
        "13) Import SVR model --- Create a instance for Support Vector Regression model --- Fit data to the model\n",
        "\n",
        "14) import cross_val_predict  For K-Fold Cross Validation --- import r2_score  For find accuracy with R2 Score --- import mean_squared_error For MSE --- import sqrt For squareroot operation\n",
        "\n",
        "15) Create a template for model evaluation: *Refer at the end*\n",
        "\n",
        "16) Evaluating Multiple Linear Regression Model\n",
        "\n",
        "17) Evaluating Polynomial Regression Model\n",
        "\n",
        "18) Evaluating Decision Tree Regression Model\n",
        "\n",
        "19) Evaluating Random Forest Regression Model\n",
        "\n",
        "20) Evaluating Support Vector Regression Model\n",
        "\n",
        "21) Compare all results in one table (refer the template for the code)\n",
        "\n",
        "\n",
        "## TEMPLATE(for point 15):\n",
        "\n",
        "@ Prediction with training dataset\n",
        "\n",
        "@ Prediction with testing dataset\n",
        "\n",
        "@ Find training accuracy for this model\n",
        "\n",
        "@ Find testing accuracy for this model\n",
        "\n",
        "@ Find RMSE for training data\n",
        "\n",
        "@ Find RMSE for testing data\n",
        "\n",
        "@ Prediction with 10-Fold Cross Validation\n",
        "\n",
        "@ Find accuracy after 10-Fold Cross Validation\n"
      ]
    },
    {
      "cell_type": "markdown",
      "metadata": {
        "id": "PkiDTNsPC9k2",
        "colab_type": "text"
      },
      "source": [
        "# --- Testing time ---\n",
        "\n",
        "1) Collect data in a dictionary format and store it in a dataframe\n",
        "\n",
        "2) Apply simple pre-processing as done on training data \n",
        "\n",
        "3) Scale the input data using sc.transform method  \n",
        "\n",
        "4) Reshape the input data in the format required by sklearn models\n",
        "\n",
        "5) Get the predicted insurance rate for the new customer\n",
        "\n",
        "6) Note Standard Scaler remembers the inputs so we can use it still here\n",
        "\n"
      ]
    },
    {
      "cell_type": "markdown",
      "metadata": {
        "id": "wKgZOQCgvmMX",
        "colab_type": "text"
      },
      "source": [
        "=========================================================================================================="
      ]
    },
    {
      "cell_type": "markdown",
      "metadata": {
        "id": "SlpK4K7wvj4m",
        "colab_type": "text"
      },
      "source": [
        "Steps/Questions:\n",
        "1) Importing Dataset\n",
        "\n",
        "2) Understanding data distribution\n",
        "\n",
        "3) Finding correlation matrix - Write a function for the same\n",
        "\n",
        "4) Visualize correlation matrix\n",
        "\n",
        "5) Histogram for age, bmi, children, charges and can use gender for hue\n",
        "\n",
        "6) Bar graph comparison for gender and smoker\n",
        "\n",
        "7) Scatter plot for age vs charges, bmi vs charges, children vs charges\n",
        "\n",
        "8) Use scatterplot of seaborn for bmi vs charges having smokers as hue\n",
        "\n",
        "9) Use violen plot for sex vs charges with hue value as smokers - write the observation\n",
        "\n",
        "10) Create pairplot using seaborn with smokers as hue"
      ]
    },
    {
      "cell_type": "code",
      "metadata": {
        "id": "pD6Py0HWDz0u",
        "colab_type": "code",
        "colab": {}
      },
      "source": [
        "# The code starts from here................."
      ],
      "execution_count": null,
      "outputs": []
    },
    {
      "cell_type": "code",
      "metadata": {
        "id": "DGe_86XtvdsR",
        "colab_type": "code",
        "colab": {}
      },
      "source": [
        "import numpy as np\n",
        "import pandas as pd\n",
        "import matplotlib.pyplot as plt\n",
        "import seaborn as sns\n",
        "%matplotlib inline"
      ],
      "execution_count": null,
      "outputs": []
    },
    {
      "cell_type": "code",
      "metadata": {
        "id": "tmRGnLigv6ie",
        "colab_type": "code",
        "colab": {}
      },
      "source": [
        "filename = 'https://raw.githubusercontent.com/shahkv95/Datasets/master/insurance.csv'\n",
        "df = pd.read_csv(filename)\n",
        "df.head()"
      ],
      "execution_count": null,
      "outputs": []
    },
    {
      "cell_type": "code",
      "metadata": {
        "id": "8veMFYq6wDK-",
        "colab_type": "code",
        "colab": {}
      },
      "source": [
        "df.shape"
      ],
      "execution_count": null,
      "outputs": []
    },
    {
      "cell_type": "code",
      "metadata": {
        "id": "IHzej3MTwIlt",
        "colab_type": "code",
        "colab": {}
      },
      "source": [
        "df.info()"
      ],
      "execution_count": null,
      "outputs": []
    },
    {
      "cell_type": "code",
      "metadata": {
        "id": "9IIQ19FXwLlI",
        "colab_type": "code",
        "colab": {}
      },
      "source": [
        "df.describe()"
      ],
      "execution_count": null,
      "outputs": []
    },
    {
      "cell_type": "code",
      "metadata": {
        "id": "6PbqgmM_wPpa",
        "colab_type": "code",
        "colab": {}
      },
      "source": [
        "corr = df.corr()\n",
        "corr"
      ],
      "execution_count": null,
      "outputs": []
    },
    {
      "cell_type": "code",
      "metadata": {
        "id": "kV4pOOHGYXcS",
        "colab_type": "code",
        "colab": {}
      },
      "source": [
        "df.isnull().sum()"
      ],
      "execution_count": null,
      "outputs": []
    },
    {
      "cell_type": "code",
      "metadata": {
        "id": "-TP_ikggwenW",
        "colab_type": "code",
        "colab": {}
      },
      "source": [
        "plt.figure(figsize=(8,6))\n",
        "sns.heatmap(corr, annot = True)"
      ],
      "execution_count": null,
      "outputs": []
    },
    {
      "cell_type": "code",
      "metadata": {
        "id": "UPeSkKEnw0hV",
        "colab_type": "code",
        "colab": {}
      },
      "source": [
        "fig, axes = plt.subplots(nrows = 2, ncols = 2, figsize = (8,6))\n",
        "\n",
        "df.plot(kind='hist', y='age', ax=axes[0][0], color = 'blue', bins = 64)\n",
        "df.plot(kind='hist', y='bmi', ax=axes[0][1], color = 'orange', bins = 54)\n",
        "df.plot(kind='hist', y='children', ax=axes[1][0], color = 'red', bins = 6)\n",
        "df.plot(kind='hist', y='charges', ax=axes[1][1], color = 'green', bins = 80)"
      ],
      "execution_count": null,
      "outputs": []
    },
    {
      "cell_type": "code",
      "metadata": {
        "id": "YyJNx2ppxog-",
        "colab_type": "code",
        "colab": {}
      },
      "source": [
        "fig, axes = plt.subplots(ncols=3, figsize = (15,6))\n",
        "df['sex'].value_counts().plot(kind='bar', color = 'orange', ax=axes[0],title=\"Sex\", legend = 'sex') \n",
        "df['region'].value_counts().plot(kind='bar', color = 'green', ax=axes[1],title=\"Region\", legend = 'region')\n",
        "df['smoker'].value_counts().plot(kind='bar', ax=axes[2],title=\"Smoker\", legend = 'smoker')\n"
      ],
      "execution_count": null,
      "outputs": []
    },
    {
      "cell_type": "code",
      "metadata": {
        "id": "swjKiDpi6xGA",
        "colab_type": "code",
        "colab": {}
      },
      "source": [
        "fig, axes = plt.subplots(ncols = 3, figsize = (15,6), squeeze=True)\n",
        "plt.subplots_adjust(left=None, bottom=None, right=None, top=None, wspace=0.4, hspace=None)\n",
        "df.plot(kind='scatter', x='age', y='charges', ax=axes[0])\n",
        "df.plot(kind='scatter', x='bmi', y='charges', ax=axes[1])\n",
        "df.plot(kind='scatter', x='children', y='charges', ax=axes[2])\n"
      ],
      "execution_count": null,
      "outputs": []
    },
    {
      "cell_type": "code",
      "metadata": {
        "id": "IK6wsKyW7pAd",
        "colab_type": "code",
        "colab": {}
      },
      "source": [
        "palette=['#EB5050','#3EA2FF']\n",
        "fig, axes = plt.subplots(ncols = 3, figsize = (15,6), squeeze=True)\n",
        "sns.scatterplot(x='bmi', y='charges', ax=axes[0], data=df,hue='sex', palette=palette)\n",
        "sns.scatterplot(x='bmi', y='charges', ax=axes[1], data=df,hue='region')\n",
        "sns.scatterplot(x='bmi', y='charges', ax=axes[2], data=df,hue='smoker', palette=palette)"
      ],
      "execution_count": null,
      "outputs": []
    },
    {
      "cell_type": "code",
      "metadata": {
        "id": "SgMCfdYl9WXn",
        "colab_type": "code",
        "colab": {}
      },
      "source": [
        "palette=['#EB5050','#3EA2FF']\n",
        "sns.catplot(x='sex', y='charges', kind='violin', palette=palette, data=df)"
      ],
      "execution_count": null,
      "outputs": []
    },
    {
      "cell_type": "code",
      "metadata": {
        "id": "YLrTiYNTDRBV",
        "colab_type": "code",
        "colab": {}
      },
      "source": [
        "palette=['#EB5050','#2DFFAB'] \n",
        "sns.catplot(x='sex', y='charges', kind='violin', hue='smoker', palette=palette, data=df)"
      ],
      "execution_count": null,
      "outputs": []
    },
    {
      "cell_type": "code",
      "metadata": {
        "id": "2ICuty1hD8-y",
        "colab_type": "code",
        "colab": {}
      },
      "source": [
        "palette=['#EB5050','#2DFFAB'] \n",
        "sns.set(style=\"ticks\")\n",
        "sns.pairplot(data=df, hue='smoker', palette=palette)"
      ],
      "execution_count": null,
      "outputs": []
    },
    {
      "cell_type": "markdown",
      "metadata": {
        "id": "v7G2JALkYInV",
        "colab_type": "text"
      },
      "source": [
        "================================================================================================================"
      ]
    },
    {
      "cell_type": "markdown",
      "metadata": {
        "id": "DTC93W7cYLla",
        "colab_type": "text"
      },
      "source": [
        "Preparing data for machine learning algorithm\n",
        "\n",
        "1) Print the head of the dataframe\n",
        "\n",
        "2) Check the values of the unique regions\n",
        "\n",
        "3) Either encode using one-hot encoding or drop the column, if droping the column, don't forget to use inplace\n",
        "\n",
        "4) Changing binary categories of sex and smokers to 1s and 0s using map/lambda function\n",
        "\n",
        "5) Store the target column in y and the rest of the columns in X - hint: can use drop method for X by droping charges column"
      ]
    },
    {
      "cell_type": "code",
      "metadata": {
        "id": "eN4b0Ev7EJv0",
        "colab_type": "code",
        "colab": {}
      },
      "source": [
        "df.head()"
      ],
      "execution_count": null,
      "outputs": []
    },
    {
      "cell_type": "code",
      "metadata": {
        "id": "R2k394OqYP5W",
        "colab_type": "code",
        "colab": {}
      },
      "source": [
        "df.nunique()"
      ],
      "execution_count": null,
      "outputs": []
    },
    {
      "cell_type": "code",
      "metadata": {
        "id": "KyrxizfZYS9i",
        "colab_type": "code",
        "colab": {}
      },
      "source": [
        "df['region'].unique()"
      ],
      "execution_count": null,
      "outputs": []
    },
    {
      "cell_type": "code",
      "metadata": {
        "id": "RWgDWSNoYosT",
        "colab_type": "code",
        "colab": {}
      },
      "source": [
        "df['sex'] = df['sex'].map(lambda sex: 1 if sex == 'female' else 0)\n",
        "df['smoker'] = df['smoker'].map(lambda smoke: 1 if smoke == 1 else 0)\n",
        "df.head()"
      ],
      "execution_count": null,
      "outputs": []
    },
    {
      "cell_type": "code",
      "metadata": {
        "id": "Zzf-XQV9TCK8",
        "colab_type": "code",
        "colab": {}
      },
      "source": [
        "# One hot encoding over region column\n",
        "categorial = ['region']\n",
        "new_df = pd.get_dummies(df, columns=categorial, drop_first=False)\n",
        "new_df.head()"
      ],
      "execution_count": null,
      "outputs": []
    },
    {
      "cell_type": "code",
      "metadata": {
        "id": "6PiSWMwUhfPd",
        "colab_type": "code",
        "colab": {}
      },
      "source": [
        "X = new_df.drop(['charges'], axis=1)\n",
        "y = df['charges']"
      ],
      "execution_count": null,
      "outputs": []
    },
    {
      "cell_type": "code",
      "metadata": {
        "id": "eAf6kOYEo3LD",
        "colab_type": "code",
        "colab": {}
      },
      "source": [
        "Xnew = df.drop(['charges','region'], axis=1)\n",
        "ynew = df['charges']"
      ],
      "execution_count": null,
      "outputs": []
    },
    {
      "cell_type": "code",
      "metadata": {
        "id": "tFLm--Eeh9Uh",
        "colab_type": "code",
        "colab": {}
      },
      "source": [
        "X.head()"
      ],
      "execution_count": null,
      "outputs": []
    },
    {
      "cell_type": "code",
      "metadata": {
        "id": "jsnx_C4tpFDT",
        "colab_type": "code",
        "colab": {}
      },
      "source": [
        "Xnew.head()"
      ],
      "execution_count": null,
      "outputs": []
    },
    {
      "cell_type": "code",
      "metadata": {
        "id": "3QzcwVAgid2g",
        "colab_type": "code",
        "colab": {}
      },
      "source": [
        "y.head()"
      ],
      "execution_count": null,
      "outputs": []
    },
    {
      "cell_type": "code",
      "metadata": {
        "id": "xnucpzuHpJWS",
        "colab_type": "code",
        "colab": {}
      },
      "source": [
        "ynew.head()"
      ],
      "execution_count": null,
      "outputs": []
    },
    {
      "cell_type": "markdown",
      "metadata": {
        "id": "4dXIgASJjgR7",
        "colab_type": "text"
      },
      "source": [
        "============================================================================================================\n"
      ]
    },
    {
      "cell_type": "markdown",
      "metadata": {
        "id": "lb8XT6upjjH5",
        "colab_type": "text"
      },
      "source": [
        "Modeling the data\n",
        "\n",
        "1) Import requirerd libraries for Linear Regression\n",
        "\n",
        "2) Split the data into training and testing with random state = 0\n",
        "\n",
        "3) Fit the model\n",
        "\n",
        "4) Predict from the trained model using predict method\n",
        "\n",
        "5) Use score method to get the R2 score\n",
        "\n",
        "6) Create a dataframe of y_test and y_test_pred and compare the result by printing the dataframe"
      ]
    },
    {
      "cell_type": "code",
      "metadata": {
        "id": "lnfvf1J8ijc1",
        "colab_type": "code",
        "colab": {}
      },
      "source": [
        "from sklearn.linear_model import LinearRegression\n",
        "from sklearn.model_selection import train_test_split\n",
        "\n",
        "X_train, X_test, y_train, y_test = train_test_split(X, y, random_state = 0)\n",
        "\n",
        "model_lr = LinearRegression()\n",
        "\n",
        "model_lr.fit(X_train, y_train)\n",
        "\n",
        "y_train_prediction = model_lr.predict(X_train)\n",
        "y_test_prediction  = model_lr.predict(X_test)\n",
        "\n",
        "model_lr.score(X_test, y_test)"
      ],
      "execution_count": null,
      "outputs": []
    },
    {
      "cell_type": "code",
      "metadata": {
        "id": "3QG8olwlirA_",
        "colab_type": "code",
        "colab": {}
      },
      "source": [
        "# from sklearn.linear_model import LinearRegression\n",
        "# from sklearn.model_selection import train_test_split\n",
        "\n",
        "# X_train, X_test, y_train, y_test = train_test_split(Xnew, ynew, random_state = 0)\n",
        "\n",
        "# model = LinearRegression()\n",
        "\n",
        "# model.fit(X_train, y_train)\n",
        "\n",
        "# y_train_prediction = model.predict(X_train)\n",
        "# y_test_prediction  = model.predict(X_test)\n",
        "\n",
        "# model.score(X_test, y_test)"
      ],
      "execution_count": null,
      "outputs": []
    },
    {
      "cell_type": "code",
      "metadata": {
        "id": "pXA4EV-DpUAD",
        "colab_type": "code",
        "colab": {}
      },
      "source": [
        "results = pd.DataFrame({'Actual_y': y_test, 'Predicted_y': y_test_prediction})\n",
        "results.head()"
      ],
      "execution_count": null,
      "outputs": []
    },
    {
      "cell_type": "markdown",
      "metadata": {
        "id": "g7JpBhoIqOZO",
        "colab_type": "text"
      },
      "source": [
        "------------ Steps for improvement ----------\n",
        "\n",
        "7) Normalize the data using Standard Scalar object offered by sklearn\n",
        "\n",
        "8) Go to this link for further template : https://colab.research.google.com/drive/1Zs2cnsyXxSD9i6m7gxnZi0GzOmW0WRcQ#scrollTo=PNzu6sCHdGf6\n",
        "\n",
        "9) Import Linear Regression model ---- Create a instance for Linear Regression model ---- Fit data to the model\n",
        "\n",
        "10) Import PolynomialFeatures from sklearn preprocessing --- Create a PolynomialFeatures instance in degree 3 --- Fit and transform the training data to polynomial --- Fit and transform the testing data to polynomial --- Create a instance for Linear Regression model --- Fit data to the model\n",
        "\n",
        "11) Import Decision Tree Regression model --- Create a instance for Decision Tree Regression model --- Fit data to the model\n",
        "\n",
        "12) Import Random Forest Regression model --- Create a instance for Random Forest Regression model --- Fit data to the model\n",
        "\n",
        "13) Import SVR model --- Create a instance for Support Vector Regression model --- Fit data to the model\n",
        "\n",
        "14) import cross_val_predict For K-Fold Cross Validation --- import r2_score For find accuracy with R2 Score --- import mean_squared_error For MSE --- import sqrt For squareroot operation\n",
        "\n",
        "15) Create a template for model evaluation: Refer at the end\n",
        "\n",
        "16) Evaluating Multiple Linear Regression Model\n",
        "\n",
        "17) Evaluating Polynomial Regression Model\n",
        "\n",
        "18) Evaluating Decision Tree Regression Model\n",
        "\n",
        "19) Evaluating Random Forest Regression Model\n",
        "\n",
        "20) Evaluating Support Vector Regression Model\n",
        "\n",
        "21) Compare all results in one table (refer the template for the code)\n",
        "\n",
        "TEMPLATE(for point 15):\n",
        "@ Prediction with training dataset\n",
        "\n",
        "@ Prediction with testing dataset\n",
        "\n",
        "@ Find training accuracy for this model\n",
        "\n",
        "@ Find testing accuracy for this model\n",
        "\n",
        "@ Find RMSE for training data\n",
        "\n",
        "@ Find RMSE for testing data\n",
        "\n",
        "@ Prediction with 10-Fold Cross Validation\n",
        "\n",
        "@ Find accuracy after 10-Fold Cross Validation"
      ]
    },
    {
      "cell_type": "code",
      "metadata": {
        "id": "w1yDWLvzqvE3",
        "colab_type": "code",
        "colab": {}
      },
      "source": [
        "# Normalize the data\n",
        "from sklearn.preprocessing import StandardScaler\n",
        "\n",
        "sc = StandardScaler()\n",
        "X_train = sc.fit_transform(X_train)\n",
        "X_test = sc.transform(X_test)"
      ],
      "execution_count": null,
      "outputs": []
    },
    {
      "cell_type": "code",
      "metadata": {
        "id": "Pi6Pg4qUrbTe",
        "colab_type": "code",
        "colab": {}
      },
      "source": [
        "pd.DataFrame(X_train).head()"
      ],
      "execution_count": null,
      "outputs": []
    },
    {
      "cell_type": "code",
      "metadata": {
        "id": "ADQFSAF0qv2o",
        "colab_type": "code",
        "colab": {}
      },
      "source": [
        "pd.DataFrame(X_train).describe()"
      ],
      "execution_count": null,
      "outputs": []
    },
    {
      "cell_type": "code",
      "metadata": {
        "id": "49pSoRKxqv5q",
        "colab_type": "code",
        "colab": {}
      },
      "source": [
        "pd.DataFrame(y_train).head()"
      ],
      "execution_count": null,
      "outputs": []
    },
    {
      "cell_type": "code",
      "metadata": {
        "id": "ZknlaQy7qv9D",
        "colab_type": "code",
        "colab": {}
      },
      "source": [
        "pd.DataFrame(y_train).head().describe()"
      ],
      "execution_count": null,
      "outputs": []
    },
    {
      "cell_type": "code",
      "metadata": {
        "id": "Lryn2k7vpbfm",
        "colab_type": "code",
        "colab": {}
      },
      "source": [
        "from sklearn.linear_model import LinearRegression\n",
        "from sklearn.model_selection import train_test_split\n",
        "\n",
        "model_mlr = LinearRegression()\n",
        "X_train, X_test, y_train, y_test = train_test_split(X, y, random_state = 0)\n",
        "\n",
        "model_mlr.fit(X_train,y_train)"
      ],
      "execution_count": null,
      "outputs": []
    },
    {
      "cell_type": "code",
      "metadata": {
        "id": "4O1nC76FslHk",
        "colab_type": "code",
        "colab": {}
      },
      "source": [
        "from sklearn.preprocessing import PolynomialFeatures\n",
        "\n",
        "polynomial_features = PolynomialFeatures(degree=3)\n",
        "x_train_poly = polynomial_features.fit_transform(X_train)\n",
        "x_test_poly = polynomial_features.fit_transform(X_test)\n",
        "\n",
        "model_pr = LinearRegression(fit_intercept=False)\n",
        "model_pr.fit(x_train_poly, y_train)"
      ],
      "execution_count": null,
      "outputs": []
    },
    {
      "cell_type": "code",
      "metadata": {
        "id": "1p7aqiGftLBN",
        "colab_type": "code",
        "colab": {}
      },
      "source": [
        "from sklearn.tree import DecisionTreeRegressor\n",
        "\n",
        "model_dtr = DecisionTreeRegressor(max_depth=5, random_state=27)\n",
        "model_dtr.fit(X_train, y_train)"
      ],
      "execution_count": null,
      "outputs": []
    },
    {
      "cell_type": "code",
      "metadata": {
        "id": "2xH7GS20ukQJ",
        "colab_type": "code",
        "colab": {}
      },
      "source": [
        "from sklearn.ensemble import RandomForestRegressor\n",
        "\n",
        "model_rfr = RandomForestRegressor(n_estimators=400, max_depth=5, random_state=26)\n",
        "model_rfr.fit(X_train, y_train)"
      ],
      "execution_count": null,
      "outputs": []
    },
    {
      "cell_type": "code",
      "metadata": {
        "id": "0rFN_1chu8Jf",
        "colab_type": "code",
        "colab": {}
      },
      "source": [
        "from sklearn.svm import SVR\n",
        "\n",
        "model_svr = SVR(gamma=\"auto\", kernel=\"linear\", C=1000)\n",
        "model_svr.fit(X_train, y_train)"
      ],
      "execution_count": null,
      "outputs": []
    },
    {
      "cell_type": "code",
      "metadata": {
        "id": "on63UhFX2nvL",
        "colab_type": "code",
        "colab": {}
      },
      "source": [
        "from sklearn.model_selection import cross_val_predict\n",
        "from sklearn.metrics import r2_score\n",
        "from sklearn.metrics import mean_squared_error\n",
        "from math import sqrt"
      ],
      "execution_count": null,
      "outputs": []
    },
    {
      "cell_type": "markdown",
      "metadata": {
        "id": "L5CC7aSO9PHx",
        "colab_type": "text"
      },
      "source": [
        "TEMPLATE(for point 15): \n",
        "\n",
        "@ Prediction with training dataset\n",
        "\n",
        "@ Prediction with testing dataset\n",
        "\n",
        "@ Find training accuracy for this model\n",
        "\n",
        "@ Find testing accuracy for this model\n",
        "\n",
        "@ Find RMSE for training data\n",
        "\n",
        "@ Find RMSE for testing data\n",
        "\n",
        "@ Prediction with 10-Fold Cross Validation\n",
        "\n",
        "@ Find accuracy after 10-Fold Cross Validation"
      ]
    },
    {
      "cell_type": "code",
      "metadata": {
        "id": "Gl6m4bLE9JCE",
        "colab_type": "code",
        "colab": {}
      },
      "source": [
        "# Prediction with training dataset:\n",
        "y_pred_MLR_train = model_mlr.predict(X_train)\n",
        "\n",
        "# Prediction with testing dataset:\n",
        "y_pred_MLR_test = model_mlr.predict(X_test)\n",
        "\n",
        "# Find training accuracy for this model:\n",
        "accuracy_MLR_train = r2_score(y_train, y_pred_MLR_train)\n",
        "print(\"Training Accuracy for Multiple Linear Regression Model: \", accuracy_MLR_train)\n",
        "\n",
        "# Find testing accuracy for this model:\n",
        "accuracy_MLR_test = r2_score(y_test, y_pred_MLR_test)\n",
        "print(\"Testing Accuracy for Multiple Linear Regression Model: \", accuracy_MLR_test)\n",
        "\n",
        "# Find RMSE for training data:\n",
        "RMSE_MLR_train = sqrt(mean_squared_error(y_train, y_pred_MLR_train))\n",
        "print(\"RMSE for Training Data: \", RMSE_MLR_train)\n",
        "\n",
        "# Find RMSE for testing data:\n",
        "RMSE_MLR_test = sqrt(mean_squared_error(y_test, y_pred_MLR_test))\n",
        "print(\"RMSE for Testing Data: \", RMSE_MLR_test)\n",
        "\n",
        "# Prediction with 10-Fold Cross Validation:\n",
        "y_pred_cv_MLR = cross_val_predict(model_mlr, X, y, cv=10)\n",
        "\n",
        "# Find accuracy after 10-Fold Cross Validation\n",
        "accuracy_cv_MLR = r2_score(y, y_pred_cv_MLR)\n",
        "print(\"Accuracy for 10-Fold Cross Predicted Multiple Linaer Regression Model: \", accuracy_cv_MLR)"
      ],
      "execution_count": null,
      "outputs": []
    },
    {
      "cell_type": "code",
      "metadata": {
        "id": "CJWKZVY6qhgF",
        "colab_type": "code",
        "colab": {}
      },
      "source": [
        "y_pred_PR_train = model_pr.predict(x_train_poly)\n",
        "\n",
        "y_pred_PR_test = model_pr.predict(x_test_poly)\n",
        "\n",
        "accuracy_PR_train = r2_score(y_train, y_pred_PR_train)\n",
        "print(\"Training Accuracy for Polynomial Regression Model: \", accuracy_PR_train)\n",
        "\n",
        "accuracy_PR_test = r2_score(y_test, y_pred_PR_test)\n",
        "print(\"Testing Accuracy for Polynomial Regression Model: \", accuracy_PR_test)\n",
        "\n",
        "RMSE_PR_train = sqrt(mean_squared_error(y_train, y_pred_PR_train))\n",
        "print(\"RMSE for Training Data: \", RMSE_PR_train)\n",
        "\n",
        "RMSE_PR_test = sqrt(mean_squared_error(y_test, y_pred_PR_test))\n",
        "print(\"RMSE for Testing Data: \", RMSE_PR_test)\n",
        "\n",
        "y_pred_cv_PR = cross_val_predict(model_pr, polynomial_features.fit_transform(X), y, cv=10)\n",
        "\n",
        "accuracy_cv_PR = r2_score(y, y_pred_cv_PR)\n",
        "print(\"Accuracy for 10-Fold Cross Predicted Polynomial Regression Model: \", accuracy_cv_PR)"
      ],
      "execution_count": null,
      "outputs": []
    },
    {
      "cell_type": "code",
      "metadata": {
        "id": "rdRffB6xrxTT",
        "colab_type": "code",
        "colab": {}
      },
      "source": [
        "# Prediction with training dataset:\n",
        "y_pred_DTR_train = model_dtr.predict(X_train)\n",
        "\n",
        "# Prediction with testing dataset:\n",
        "y_pred_DTR_test = model_dtr.predict(X_test)\n",
        "\n",
        "# Find training accuracy for this model:\n",
        "accuracy_DTR_train = r2_score(y_train, y_pred_DTR_train)\n",
        "print(\"Training Accuracy for Decision Tree Regression Model: \", accuracy_DTR_train)\n",
        "\n",
        "# Find testing accuracy for this model:\n",
        "accuracy_DTR_test = r2_score(y_test, y_pred_DTR_test)\n",
        "print(\"Testing Accuracy for Decision Tree Regression Model: \", accuracy_DTR_test)\n",
        "\n",
        "# Find RMSE for training data:\n",
        "RMSE_DTR_train = sqrt(mean_squared_error(y_train, y_pred_DTR_train))\n",
        "print(\"RMSE for Training Data: \", RMSE_DTR_train)\n",
        "\n",
        "# Find RMSE for testing data:\n",
        "RMSE_DTR_test = sqrt(mean_squared_error(y_test, y_pred_DTR_test))\n",
        "print(\"RMSE for Testing Data: \", RMSE_DTR_test)\n",
        "\n",
        "# Prediction with 10-Fold Cross Validation:\n",
        "y_pred_cv_DTR = cross_val_predict(model_dtr, X, y, cv=10)\n",
        "\n",
        "# Find accuracy after 10-Fold Cross Validation\n",
        "accuracy_cv_DTR = r2_score(y, y_pred_cv_DTR)\n",
        "print(\"Accuracy for 10-Fold Cross Predicted Decision Tree Regression Model: \", accuracy_cv_DTR)"
      ],
      "execution_count": null,
      "outputs": []
    },
    {
      "cell_type": "code",
      "metadata": {
        "id": "1-mlsIG5tTi5",
        "colab_type": "code",
        "colab": {}
      },
      "source": [
        "# Prediction with training dataset:\n",
        "y_pred_RFR_train = model_rfr.predict(X_train)\n",
        "\n",
        "# Prediction with testing dataset:\n",
        "y_pred_RFR_test = model_rfr.predict(X_test)\n",
        "\n",
        "# Find training accuracy for this model:\n",
        "accuracy_RFR_train = r2_score(y_train, y_pred_RFR_train)\n",
        "print(\"Training Accuracy for Random Forest Regression Model: \", accuracy_RFR_train)\n",
        "\n",
        "# Find testing accuracy for this model:\n",
        "accuracy_RFR_test = r2_score(y_test, y_pred_RFR_test)\n",
        "print(\"Testing Accuracy for Random Forest Regression Model: \", accuracy_RFR_test)\n",
        "\n",
        "# Find RMSE for training data:\n",
        "RMSE_RFR_train = sqrt(mean_squared_error(y_train, y_pred_RFR_train))\n",
        "print(\"RMSE for Training Data: \", RMSE_RFR_train)\n",
        "\n",
        "# Find RMSE for testing data:\n",
        "RMSE_RFR_test = sqrt(mean_squared_error(y_test, y_pred_RFR_test))\n",
        "print(\"RMSE for Testing Data: \", RMSE_RFR_test)\n",
        "\n",
        "# Prediction with 10-Fold Cross Validation:\n",
        "y_pred_cv_RFR = cross_val_predict(model_rfr, X, y, cv=10)\n",
        "\n",
        "# Find accuracy after 10-Fold Cross Validation\n",
        "accuracy_cv_RFR = r2_score(y, y_pred_cv_RFR)\n",
        "print(\"Accuracy for 10-Fold Cross Predicted Random Forest Regression Model: \", accuracy_cv_RFR)"
      ],
      "execution_count": null,
      "outputs": []
    },
    {
      "cell_type": "code",
      "metadata": {
        "id": "UXc-EhpcuB7S",
        "colab_type": "code",
        "colab": {}
      },
      "source": [
        "# Prediction with training dataset:\n",
        "y_pred_SVR_train = model_svr.predict(X_train)\n",
        "\n",
        "# Prediction with testing dataset:\n",
        "y_pred_SVR_test = model_svr.predict(X_test)\n",
        "\n",
        "# Find training accuracy for this model:\n",
        "accuracy_SVR_train = r2_score(y_train, y_pred_SVR_train)\n",
        "print(\"Training Accuracy for Support Vector Regression Model: \", accuracy_SVR_train)\n",
        "\n",
        "# Find testing accuracy for this model:\n",
        "accuracy_SVR_test = r2_score(y_test, y_pred_SVR_test)\n",
        "print(\"Testing Accuracy for Support Vector Regression Model: \", accuracy_SVR_test)\n",
        "\n",
        "# Find RMSE for training data:\n",
        "RMSE_SVR_train = sqrt(mean_squared_error(y_train, y_pred_SVR_train))\n",
        "print(\"RMSE for Training Data: \", RMSE_SVR_train)\n",
        "\n",
        "# Find RMSE for testing data:\n",
        "RMSE_SVR_test = sqrt(mean_squared_error(y_test, y_pred_SVR_test))\n",
        "print(\"RMSE for Testing Data: \", RMSE_SVR_test)\n",
        "\n",
        "# Prediction with 10-Fold Cross Validation:\n",
        "y_pred_cv_SVR = cross_val_predict(model_svr, X, y, cv=10)\n",
        "\n",
        "# Find accuracy after 10-Fold Cross Validation\n",
        "accuracy_cv_SVR = r2_score(y, y_pred_cv_SVR)\n",
        "print(\"Accuracy for 10-Fold Cross Predicted Support Vector Regression Model: \", accuracy_cv_SVR)"
      ],
      "execution_count": null,
      "outputs": []
    },
    {
      "cell_type": "code",
      "metadata": {
        "id": "0eYZ6jEOuStP",
        "colab_type": "code",
        "colab": {}
      },
      "source": [
        "# Compare all results in one table\n",
        "training_accuracies = [accuracy_MLR_train, accuracy_PR_train, accuracy_DTR_train, accuracy_RFR_train, accuracy_SVR_train]\n",
        "testing_accuracies = [accuracy_MLR_test, accuracy_PR_test, accuracy_DTR_test, accuracy_RFR_test, accuracy_SVR_test]\n",
        "training_RMSE = [RMSE_MLR_train, RMSE_PR_train, RMSE_DTR_train, RMSE_RFR_train, RMSE_SVR_train]\n",
        "testing_RMSE = [RMSE_MLR_test, RMSE_PR_test, RMSE_DTR_test, RMSE_RFR_test, RMSE_SVR_test]\n",
        "cv_accuracies = [accuracy_cv_MLR, accuracy_cv_PR, accuracy_cv_DTR, accuracy_cv_RFR, accuracy_cv_SVR]\n",
        "\n",
        "parameters = [\"fit_intercept=False\", \"fit_intercept=False\", \"max_depth=5\", \"n_estimators=400, max_depth=5\", \"kernel=”linear”, C=1000\"]\n",
        "\n",
        "table_data = {\"Parameters\": parameters, \"Training Accuracy\": training_accuracies, \"Testing Accuracy\": testing_accuracies, \n",
        "              \"Training RMSE\": training_RMSE, \"Testing RMSE\": testing_RMSE, \"10-Fold Score\": cv_accuracies}\n",
        "model_names = [\"Multiple Linear Regression\", \"Polynomial Regression\", \"Decision Tree Regression\", \"Random Forest Regression\", \"Support Vector Regression\"]\n",
        "\n",
        "table_dataframe = pd.DataFrame(data=table_data, index=model_names)\n",
        "table_dataframe"
      ],
      "execution_count": null,
      "outputs": []
    },
    {
      "cell_type": "code",
      "metadata": {
        "id": "ziXhF5yvvkCR",
        "colab_type": "code",
        "colab": {}
      },
      "source": [
        "input_data = {'age': [35],\n",
        "              'sex': ['male'],\n",
        "              'bmi': [26],\n",
        "              'children': [0],\n",
        "              'smoker': ['no'],\n",
        "              'region': ['southeast']}\n",
        "\n",
        "input_data = pd.DataFrame(input_data)\n",
        "input_data"
      ],
      "execution_count": null,
      "outputs": []
    },
    {
      "cell_type": "code",
      "metadata": {
        "id": "kpdrj36eAH8v",
        "colab_type": "code",
        "colab": {}
      },
      "source": [
        "# Our simple pre-processing \n",
        "categorial = ['region']\n",
        "input_data = pd.get_dummies(input_data, columns=categorial, drop_first=False)\n",
        "input_data['sex'] = input_data['sex'].map(lambda s :1  if s == 'female' else 0)\n",
        "input_data['smoker'] = input_data['smoker'].map(lambda s :1  if s == 'yes' else 0)\n",
        "input_data"
      ],
      "execution_count": null,
      "outputs": []
    },
    {
      "cell_type": "code",
      "metadata": {
        "id": "6Ia1labfAZmi",
        "colab_type": "code",
        "colab": {}
      },
      "source": [
        "# # Scale our input data  \n",
        "# input_data = sc.transform(input_data)\n",
        "# input_data"
      ],
      "execution_count": null,
      "outputs": []
    },
    {
      "cell_type": "code",
      "metadata": {
        "id": "FrSurd9WAcly",
        "colab_type": "code",
        "colab": {}
      },
      "source": [
        "# # Reshape our input data in the format required by sklearn models\n",
        "# input_data = input_data.reshape(1, -1)\n",
        "# print(input_data.shape)\n",
        "# input_data"
      ],
      "execution_count": null,
      "outputs": []
    },
    {
      "cell_type": "code",
      "metadata": {
        "id": "6f3unK67Ah8_",
        "colab_type": "code",
        "colab": {}
      },
      "source": [
        "# # Get our predicted insurance rate for our new customer\n",
        "# model_rfr.predict(input_data)"
      ],
      "execution_count": null,
      "outputs": []
    },
    {
      "cell_type": "code",
      "metadata": {
        "id": "urUWY9mlAmSz",
        "colab_type": "code",
        "colab": {}
      },
      "source": [
        "# # Note Standard Scaler remembers your inputs so you can use it still here\n",
        "# print(sc.mean_)\n",
        "# print(sc.scale_)"
      ],
      "execution_count": null,
      "outputs": []
    },
    {
      "cell_type": "code",
      "metadata": {
        "id": "HqjdUOCeAoQA",
        "colab_type": "code",
        "colab": {}
      },
      "source": [
        ""
      ],
      "execution_count": null,
      "outputs": []
    }
  ]
}